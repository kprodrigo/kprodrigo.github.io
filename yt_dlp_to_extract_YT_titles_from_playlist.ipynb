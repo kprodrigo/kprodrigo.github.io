{
  "nbformat": 4,
  "nbformat_minor": 0,
  "metadata": {
    "colab": {
      "provenance": [],
      "authorship_tag": "ABX9TyPuABEQMi3bM8oOQIXhQnqE",
      "include_colab_link": true
    },
    "kernelspec": {
      "name": "python3",
      "display_name": "Python 3"
    },
    "language_info": {
      "name": "python"
    }
  },
  "cells": [
    {
      "cell_type": "markdown",
      "metadata": {
        "id": "view-in-github",
        "colab_type": "text"
      },
      "source": [
        "<a href=\"https://colab.research.google.com/github/kprodrigo/kprodrigo.github.io/blob/main/yt_dlp_to_extract_YT_titles_from_playlist.ipynb\" target=\"_parent\"><img src=\"https://colab.research.google.com/assets/colab-badge.svg\" alt=\"Open In Colab\"/></a>"
      ]
    },
    {
      "cell_type": "markdown",
      "source": [
        "This project is a YouTube playlist data extractor that uses yt-dlp to retrieve video titles and formats them into a tabular structure for easy analysis."
      ],
      "metadata": {
        "id": "0oYPzcJtWqGI"
      }
    },
    {
      "cell_type": "code",
      "execution_count": 1,
      "metadata": {
        "colab": {
          "base_uri": "https://localhost:8080/",
          "height": 211
        },
        "id": "IG9uZRgFUs-6",
        "outputId": "b85c7802-ce3e-47f5-d6ab-9e88997e83e9"
      },
      "outputs": [
        {
          "output_type": "error",
          "ename": "NameError",
          "evalue": "name 'pd' is not defined",
          "traceback": [
            "\u001b[0;31m---------------------------------------------------------------------------\u001b[0m",
            "\u001b[0;31mNameError\u001b[0m                                 Traceback (most recent call last)",
            "\u001b[0;32m<ipython-input-1-6733cdd56e79>\u001b[0m in \u001b[0;36m<cell line: 18>\u001b[0;34m()\u001b[0m\n\u001b[1;32m     16\u001b[0m \u001b[0;34m\u001b[0m\u001b[0m\n\u001b[1;32m     17\u001b[0m \u001b[0;31m# Creating DataFrame\u001b[0m\u001b[0;34m\u001b[0m\u001b[0;34m\u001b[0m\u001b[0m\n\u001b[0;32m---> 18\u001b[0;31m \u001b[0mdf\u001b[0m \u001b[0;34m=\u001b[0m \u001b[0mpd\u001b[0m\u001b[0;34m.\u001b[0m\u001b[0mDataFrame\u001b[0m\u001b[0;34m(\u001b[0m\u001b[0mvideo_titles\u001b[0m\u001b[0;34m,\u001b[0m \u001b[0mcolumns\u001b[0m\u001b[0;34m=\u001b[0m\u001b[0;34m[\u001b[0m\u001b[0;34m\"Video Titles\"\u001b[0m\u001b[0;34m]\u001b[0m\u001b[0;34m)\u001b[0m\u001b[0;34m\u001b[0m\u001b[0;34m\u001b[0m\u001b[0m\n\u001b[0m\u001b[1;32m     19\u001b[0m \u001b[0;34m\u001b[0m\u001b[0m\n\u001b[1;32m     20\u001b[0m \u001b[0;32mimport\u001b[0m \u001b[0mace_tools\u001b[0m \u001b[0;32mas\u001b[0m \u001b[0mtools\u001b[0m\u001b[0;34m;\u001b[0m \u001b[0mtools\u001b[0m\u001b[0;34m.\u001b[0m\u001b[0mdisplay_dataframe_to_user\u001b[0m\u001b[0;34m(\u001b[0m\u001b[0mname\u001b[0m\u001b[0;34m=\u001b[0m\u001b[0;34m\"Excel Power Query YouTube Playlist\"\u001b[0m\u001b[0;34m,\u001b[0m \u001b[0mdataframe\u001b[0m\u001b[0;34m=\u001b[0m\u001b[0mdf\u001b[0m\u001b[0;34m)\u001b[0m\u001b[0;34m\u001b[0m\u001b[0;34m\u001b[0m\u001b[0m\n",
            "\u001b[0;31mNameError\u001b[0m: name 'pd' is not defined"
          ]
        }
      ],
      "source": [
        "import requests\n",
        "from bs4 import BeautifulSoup\n",
        "\n",
        "# Function to get video titles from YouTube playlist\n",
        "def get_youtube_playlist_titles(playlist_url):\n",
        "    response = requests.get(playlist_url)\n",
        "    soup = BeautifulSoup(response.content, 'html.parser')\n",
        "    titles = [video.text.strip() for video in soup.find_all('a', class_='yt-simple-endpoint style-scope ytd-playlist-video-renderer')]\n",
        "    return titles\n",
        "\n",
        "# URL of the YouTube playlist\n",
        "playlist_url = \"https://www.youtube.com/playlist?list=PLrRPvpgDmw0nre_bTeBfJWjrnixKoyNtW\"\n",
        "\n",
        "# Getting video titles\n",
        "video_titles = get_youtube_playlist_titles(playlist_url)\n",
        "\n",
        "# Creating DataFrame\n",
        "df = pd.DataFrame(video_titles, columns=[\"Video Titles\"])\n",
        "\n",
        "import ace_tools as tools; tools.display_dataframe_to_user(name=\"Excel Power Query YouTube Playlist\", dataframe=df)\n"
      ]
    },
    {
      "cell_type": "code",
      "source": [
        "import requests\n",
        "from bs4 import BeautifulSoup\n",
        "import pandas as pd  # Ensure pandas is imported\n",
        "\n",
        "# Function to get video titles from YouTube playlist\n",
        "def get_youtube_playlist_titles(playlist_url):\n",
        "    response = requests.get(playlist_url)\n",
        "    soup = BeautifulSoup(response.content, 'html.parser')\n",
        "    titles = [video.text.strip() for video in soup.find_all('a', class_='yt-simple-endpoint style-scope ytd-playlist-video-renderer')]\n",
        "    return titles\n",
        "\n",
        "# URL of the YouTube playlist\n",
        "playlist_url = \"https://www.youtube.com/playlist?list=PLrRPvpgDmw0nre_bTeBfJWjrnixKoyNtW\"\n",
        "\n",
        "# Getting video titles\n",
        "video_titles = get_youtube_playlist_titles(playlist_url)\n",
        "\n",
        "# Creating DataFrame\n",
        "df = pd.DataFrame(video_titles, columns=[\"Video Titles\"])\n",
        "\n",
        "# Display the DataFrame\n",
        "print(df)\n"
      ],
      "metadata": {
        "colab": {
          "base_uri": "https://localhost:8080/"
        },
        "id": "yWOnSv27U8Ky",
        "outputId": "768f462b-5d34-4028-e845-d8d43f425577"
      },
      "execution_count": 2,
      "outputs": [
        {
          "output_type": "stream",
          "name": "stdout",
          "text": [
            "Empty DataFrame\n",
            "Columns: [Video Titles]\n",
            "Index: []\n"
          ]
        }
      ]
    },
    {
      "cell_type": "code",
      "source": [
        "!pip install --upgrade youtube_dl"
      ],
      "metadata": {
        "colab": {
          "base_uri": "https://localhost:8080/"
        },
        "id": "mZzj37fNV2N-",
        "outputId": "3a071a09-a9e7-4853-89ad-434ffb9bfa92"
      },
      "execution_count": 4,
      "outputs": [
        {
          "output_type": "stream",
          "name": "stdout",
          "text": [
            "Collecting youtube_dl\n",
            "  Downloading youtube_dl-2021.12.17-py2.py3-none-any.whl (1.9 MB)\n",
            "\u001b[2K     \u001b[90m━━━━━━━━━━━━━━━━━━━━━━━━━━━━━━━━━━━━━━━━\u001b[0m \u001b[32m1.9/1.9 MB\u001b[0m \u001b[31m17.6 MB/s\u001b[0m eta \u001b[36m0:00:00\u001b[0m\n",
            "\u001b[?25hInstalling collected packages: youtube_dl\n",
            "Successfully installed youtube_dl-2021.12.17\n"
          ]
        }
      ]
    },
    {
      "cell_type": "code",
      "source": [
        "import youtube_dl as yt_dlp\n",
        "import pandas as pd\n",
        "\n",
        "# Function to get video titles from YouTube playlist using yt-dlp\n",
        "def get_youtube_playlist_titles(playlist_url):\n",
        "    ydl_opts = {\n",
        "        'quiet': True,\n",
        "        'extract_flat': True,\n",
        "        'force_generic_extractor': True,\n",
        "    }\n",
        "\n",
        "    with yt_dlp.YoutubeDL(ydl_opts) as ydl:\n",
        "        info = ydl.extract_info(playlist_url, download=False)\n",
        "        titles = [entry['title'] for entry in info['entries']]\n",
        "    return titles\n",
        "\n",
        "# URL of the YouTube playlist\n",
        "playlist_url = \"https://www.youtube.com/playlist?list=PLrRPvpgDmw0nre_bTeBfJWjrnixKoyNtW\"\n",
        "\n",
        "# Getting video titles\n",
        "video_titles = get_youtube_playlist_titles(playlist_url)\n",
        "\n",
        "# Creating DataFrame\n",
        "df = pd.DataFrame(video_titles, columns=[\"Video Titles\"])\n",
        "\n",
        "# Display the DataFrame\n",
        "print(df)\n"
      ],
      "metadata": {
        "colab": {
          "base_uri": "https://localhost:8080/"
        },
        "id": "sh0ieqFtVRDA",
        "outputId": "cfd68490-4d08-4180-b13e-64c9f29de172"
      },
      "execution_count": 7,
      "outputs": [
        {
          "output_type": "stream",
          "name": "stdout",
          "text": [
            "                                         Video Titles\n",
            "0   Microsoft 365 Excel Complete Class: free from ...\n",
            "1   Introduction to Microsoft 365 Excel & Conventi...\n",
            "2   How To Access Excel F Keys on Laptop Computer ...\n",
            "3   Excel Formulas & Functions, PivotTables, Slice...\n",
            "4   M 365 Excel Worksheet Formulas & Models – Ever...\n",
            "5   Excel & Power BI Data Analysis Complete Class ...\n",
            "6   Date & Time Formulas & Functions in Excel Work...\n",
            "7   Text Formulas & Functions in Excel Worksheet a...\n",
            "8   Logical Tests: Excel Formulas, Conditional For...\n",
            "9   All Important Excel Lookup Formulas: Excel Wor...\n",
            "10  Excel Array Formulas & Functions: 50 Examples ...\n",
            "11  Excel LAMBDA, LAMBDA Helper Functions & Eta-LA...\n",
            "12  Excel LAMBDA function – Every Single Things Yo...\n",
            "13  Visualizing Data and Building Dashboards in Ex...\n",
            "14  Free M Code Class from Basic to Advanced: Powe...\n",
            "15  Power Query and  M Code to Import &Transform D...\n",
            "16  Power Query UnPivot to Convert Cross Tabulated...\n",
            "17  7 Types of Joins in Power Query Merge. 9 Examp...\n",
            "18  Power Query Group By: Complete Lesson. 10 Exam...\n",
            "19  Full Free DAX Class: Fundamentals of DAX in Po...\n",
            "20  Solution for Two Fact Tables: Power Query or D...\n",
            "21  Budget Vs. Actual Variance Analysis: Data Mode...\n",
            "22  What Is My CD Worth? A Lesson in Finance & Wor...\n",
            "23  Build Mortgage Home Loan Schedule. Traditional...\n",
            "24  Two Date Columns in Fact Table? How To Create ...\n"
          ]
        }
      ]
    },
    {
      "cell_type": "code",
      "source": [],
      "metadata": {
        "id": "SdUbWf62VRnb"
      },
      "execution_count": null,
      "outputs": []
    }
  ]
}